{
 "cells": [
  {
   "cell_type": "code",
   "execution_count": 77,
   "metadata": {},
   "outputs": [],
   "source": [
    "#Imports\n",
    "import pandas as pd\n",
    "import numpy as np\n",
    "import matplotlib.pyplot as plt\n",
    "from sklearn.model_selection import train_test_split, GridSearchCV\n",
    "from sklearn.preprocessing import StandardScaler\n",
    "from sklearn.pipeline import Pipeline\n",
    "from sklearn.linear_model import LogisticRegression, LinearRegression\n",
    "from sklearn.neighbors import KNeighborsRegressor\n",
    "from sklearn.ensemble import RandomForestRegressor\n",
    "from sklearn.tree import DecisionTreeRegressor\n",
    "from sklearn.preprocessing import StandardScaler\n",
    "from sklearn.svm import SVR\n",
    "from sklearn.naive_bayes import MultinomialNB"
   ]
  },
  {
   "cell_type": "markdown",
   "metadata": {},
   "source": [
    "# Predicting Box Office Revenue"
   ]
  },
  {
   "cell_type": "code",
   "execution_count": 78,
   "metadata": {},
   "outputs": [],
   "source": [
    "#read in data\n",
    "path_train = './Data/train.csv'\n",
    "df = pd.read_csv(path_train)"
   ]
  },
  {
   "cell_type": "code",
   "execution_count": 79,
   "metadata": {},
   "outputs": [
    {
     "data": {
      "text/plain": [
       "(3000, 23)"
      ]
     },
     "execution_count": 79,
     "metadata": {},
     "output_type": "execute_result"
    }
   ],
   "source": [
    "df.shape"
   ]
  },
  {
   "cell_type": "code",
   "execution_count": 80,
   "metadata": {},
   "outputs": [],
   "source": [
    "#create a column for the length of the the overview\n",
    "df['overview_words'] = df['overview'].str.split()\n",
    "df['overview_word_count'] = df['overview_words'].str.len()\n",
    "\n",
    "#create a column for the length of the the tagline\n",
    "df['tagline_words'] = df['tagline'].str.split()\n",
    "df['tagline_word_count'] = df['tagline_words'].str.len()\n",
    "\n",
    "df['overview_word_count'].fillna(0, inplace=True)\n",
    "df['tagline_word_count'].fillna(0, inplace=True)\n",
    "\n",
    "df.drop(columns = ['tagline', 'overview', 'overview_words', 'tagline_words'], inplace = True)"
   ]
  },
  {
   "cell_type": "code",
   "execution_count": 81,
   "metadata": {},
   "outputs": [],
   "source": [
    "#drop poster_path because we aren't going to do image recognition\n",
    "df.drop(columns = ['poster_path', 'homepage', 'Keywords'], inplace = True)"
   ]
  },
  {
   "cell_type": "markdown",
   "metadata": {},
   "source": [
    "## Data Cleaning 1: Imputing for Nulls"
   ]
  },
  {
   "cell_type": "code",
   "execution_count": 82,
   "metadata": {},
   "outputs": [
    {
     "data": {
      "text/plain": [
       "id                          0\n",
       "belongs_to_collection    2396\n",
       "budget                      0\n",
       "genres                      7\n",
       "imdb_id                     0\n",
       "original_language           0\n",
       "original_title              0\n",
       "popularity                  0\n",
       "production_companies      156\n",
       "production_countries       55\n",
       "release_date                0\n",
       "runtime                     2\n",
       "spoken_languages           20\n",
       "status                      0\n",
       "title                       0\n",
       "cast                       13\n",
       "crew                       16\n",
       "revenue                     0\n",
       "overview_word_count         0\n",
       "tagline_word_count          0\n",
       "dtype: int64"
      ]
     },
     "execution_count": 82,
     "metadata": {},
     "output_type": "execute_result"
    }
   ],
   "source": [
    "df.isna().sum()"
   ]
  },
  {
   "cell_type": "markdown",
   "metadata": {},
   "source": [
    "### Fill in Missing Genres"
   ]
  },
  {
   "cell_type": "code",
   "execution_count": 83,
   "metadata": {},
   "outputs": [
    {
     "data": {
      "text/plain": [
       "[{'id': 35, 'name': 'Comedy'},\n",
       " {'id': 10751, 'name': 'Family'},\n",
       " {'id': 14, 'name': 'Fantasy'}]"
      ]
     },
     "execution_count": 83,
     "metadata": {},
     "output_type": "execute_result"
    }
   ],
   "source": [
    "#we reviewed the df of empty genres to see if we could impute. five of the seven are russian\n",
    "df['genres'].fillna(' ', inplace = True)\n",
    "\n",
    "#Extract genre names from json\n",
    "\n",
    "df['genres'].iloc[0]\n",
    "\n",
    "from ast import literal_eval\n",
    "\n",
    "df['genres_eval'] = df['genres'].map(lambda x: literal_eval(x) if x != ' ' else x)\n",
    "\n",
    "df['genres_eval'].iloc[200]"
   ]
  },
  {
   "cell_type": "markdown",
   "metadata": {},
   "source": [
    "There are many movies with multiple genres listed. There's no explanation in the data dictionary for this. We're going to assume that the first listed genre is the main genre"
   ]
  },
  {
   "cell_type": "code",
   "execution_count": 84,
   "metadata": {},
   "outputs": [],
   "source": [
    "#create genre name column with the first listed genre\n",
    "df['genre_name'] = df['genres_eval'].map(lambda x: x[0]['name'] if x != ' ' else ' ')"
   ]
  },
  {
   "cell_type": "code",
   "execution_count": 85,
   "metadata": {},
   "outputs": [
    {
     "data": {
      "text/plain": [
       "Drama              785\n",
       "Comedy             604\n",
       "Action             520\n",
       "Adventure          187\n",
       "Horror             170\n",
       "Crime              147\n",
       "Thriller           116\n",
       "Animation           76\n",
       "Documentary         71\n",
       "Fantasy             68\n",
       "Romance             67\n",
       "Science Fiction     41\n",
       "Family              36\n",
       "Mystery             33\n",
       "Music               20\n",
       "War                 20\n",
       "History             16\n",
       "Western             13\n",
       "                     7\n",
       "Foreign              2\n",
       "TV Movie             1\n",
       "Name: genre_name, dtype: int64"
      ]
     },
     "execution_count": 85,
     "metadata": {},
     "output_type": "execute_result"
    }
   ],
   "source": [
    "df['genre_name'].value_counts()"
   ]
  },
  {
   "cell_type": "code",
   "execution_count": 86,
   "metadata": {},
   "outputs": [],
   "source": [
    "#drop genre columns other than genre_name\n",
    "df.drop(columns = ['genres', 'genres_eval'], inplace = True)\n",
    "\n",
    "#create dummy columns for genre\n",
    "df = pd.get_dummies(df, columns = ['genre_name'])"
   ]
  },
  {
   "cell_type": "markdown",
   "metadata": {},
   "source": [
    "### Fill empty runtimes with median runtime"
   ]
  },
  {
   "cell_type": "code",
   "execution_count": 87,
   "metadata": {},
   "outputs": [
    {
     "data": {
      "text/plain": [
       "<AxesSubplot:>"
      ]
     },
     "execution_count": 87,
     "metadata": {},
     "output_type": "execute_result"
    },
    {
     "data": {
      "image/png": "[encoded data removed]",
      "text/plain": [
       "<Figure size 432x288 with 1 Axes>"
      ]
     },
     "metadata": {
      "needs_background": "light"
     },
     "output_type": "display_data"
    }
   ],
   "source": [
    "df['runtime'].hist(bins = 100)"
   ]
  },
  {
   "cell_type": "markdown",
   "metadata": {},
   "source": [
    "Since the distribution of runtimes is approximately normal we will use median to fill the 2 empty runtime values"
   ]
  },
  {
   "cell_type": "code",
   "execution_count": 88,
   "metadata": {},
   "outputs": [],
   "source": [
    "df['runtime'].fillna(np.mean(df['runtime']), inplace = True)"
   ]
  },
  {
   "cell_type": "markdown",
   "metadata": {},
   "source": [
    "## Data Cleaning 2: Clean up Data Types"
   ]
  },
  {
   "cell_type": "code",
   "execution_count": 89,
   "metadata": {},
   "outputs": [
    {
     "data": {
      "text/plain": [
       "id                              int64\n",
       "belongs_to_collection          object\n",
       "budget                          int64\n",
       "imdb_id                        object\n",
       "original_language              object\n",
       "original_title                 object\n",
       "popularity                    float64\n",
       "production_companies           object\n",
       "production_countries           object\n",
       "release_date                   object\n",
       "runtime                       float64\n",
       "spoken_languages               object\n",
       "status                         object\n",
       "title                          object\n",
       "cast                           object\n",
       "crew                           object\n",
       "revenue                         int64\n",
       "overview_word_count           float64\n",
       "tagline_word_count            float64\n",
       "genre_name_                     uint8\n",
       "genre_name_Action               uint8\n",
       "genre_name_Adventure            uint8\n",
       "genre_name_Animation            uint8\n",
       "genre_name_Comedy               uint8\n",
       "genre_name_Crime                uint8\n",
       "genre_name_Documentary          uint8\n",
       "genre_name_Drama                uint8\n",
       "genre_name_Family               uint8\n",
       "genre_name_Fantasy              uint8\n",
       "genre_name_Foreign              uint8\n",
       "genre_name_History              uint8\n",
       "genre_name_Horror               uint8\n",
       "genre_name_Music                uint8\n",
       "genre_name_Mystery              uint8\n",
       "genre_name_Romance              uint8\n",
       "genre_name_Science Fiction      uint8\n",
       "genre_name_TV Movie             uint8\n",
       "genre_name_Thriller             uint8\n",
       "genre_name_War                  uint8\n",
       "genre_name_Western              uint8\n",
       "dtype: object"
      ]
     },
     "execution_count": 89,
     "metadata": {},
     "output_type": "execute_result"
    }
   ],
   "source": [
    "df.dtypes"
   ]
  },
  {
   "cell_type": "markdown",
   "metadata": {},
   "source": [
    "we want to simplify belongs_to_collection to either a yes or a no."
   ]
  },
  {
   "cell_type": "code",
   "execution_count": 90,
   "metadata": {},
   "outputs": [
    {
     "data": {
      "text/plain": [
       "0    2396\n",
       "1     604\n",
       "Name: in_collection, dtype: int64"
      ]
     },
     "execution_count": 90,
     "metadata": {},
     "output_type": "execute_result"
    }
   ],
   "source": [
    "df['belongs_to_collection'].fillna(0, inplace = True)\n",
    "\n",
    "df['in_collection'] = df['belongs_to_collection'].map(lambda x: 1 if x != 0 else x)\n",
    "\n",
    "df['in_collection'].value_counts()\n"
   ]
  },
  {
   "cell_type": "code",
   "execution_count": 91,
   "metadata": {},
   "outputs": [],
   "source": [
    "df.drop(columns = 'belongs_to_collection', inplace = True)"
   ]
  },
  {
   "cell_type": "code",
   "execution_count": 92,
   "metadata": {},
   "outputs": [
    {
     "data": {
      "text/plain": [
       "1    2575\n",
       "0     425\n",
       "Name: is_en, dtype: int64"
      ]
     },
     "execution_count": 92,
     "metadata": {},
     "output_type": "execute_result"
    }
   ],
   "source": [
    "df['is_en'] = df['original_language'].map(lambda x: 1 if x == 'en' else 0)\n",
    "\n",
    "df['is_en'].value_counts()"
   ]
  },
  {
   "cell_type": "code",
   "execution_count": 93,
   "metadata": {},
   "outputs": [
    {
     "data": {
      "text/plain": [
       "[{'iso_3166_1': 'DE', 'name': 'Germany'},\n",
       " {'iso_3166_1': 'US', 'name': 'United States of America'}]"
      ]
     },
     "execution_count": 93,
     "metadata": {},
     "output_type": "execute_result"
    }
   ],
   "source": [
    "df['production_countries'].fillna(' ', inplace = True)\n",
    "\n",
    "df['countries_eval'] = df['production_countries'].map(lambda x: literal_eval(x) if x != ' ' else x)\n",
    "\n",
    "df['countries_eval'].iloc[200]"
   ]
  },
  {
   "cell_type": "code",
   "execution_count": 94,
   "metadata": {},
   "outputs": [],
   "source": [
    "df['country_abb'] = df['countries_eval'].map(lambda x: x[0]['iso_3166_1'] if x != ' ' else ' ')\n",
    "\n",
    "df['country_abb'].value_counts()\n",
    "\n",
    "df = pd.get_dummies(df, columns = ['country_abb'])"
   ]
  },
  {
   "cell_type": "code",
   "execution_count": 95,
   "metadata": {},
   "outputs": [
    {
     "data": {
      "text/plain": [
       "[{'name': 'Paramount Pictures', 'id': 4},\n",
       " {'name': 'Kerner Entertainment Company', 'id': 7311}]"
      ]
     },
     "execution_count": 95,
     "metadata": {},
     "output_type": "execute_result"
    }
   ],
   "source": [
    "df['production_companies'].fillna(' ', inplace = True)\n",
    "\n",
    "df['company_eval'] = df['production_companies'].map(lambda x: literal_eval(x) if x != ' ' else x)\n",
    "\n",
    "df['company_eval'].iloc[200]"
   ]
  },
  {
   "cell_type": "code",
   "execution_count": 96,
   "metadata": {},
   "outputs": [
    {
     "data": {
      "text/plain": [
       "Universal Pictures                        167\n",
       "Paramount Pictures                        158\n",
       "                                          156\n",
       "Twentieth Century Fox Film Corporation    122\n",
       "Columbia Pictures                          90\n",
       "                                         ... \n",
       "Solaris Film                                1\n",
       "Next Wednesday Productions                  1\n",
       "Caramel Film                                1\n",
       "Anarchos Productions                        1\n",
       "Atípica Films                               1\n",
       "Name: company_name, Length: 1065, dtype: int64"
      ]
     },
     "execution_count": 96,
     "metadata": {},
     "output_type": "execute_result"
    }
   ],
   "source": [
    "df['company_name'] = df['company_eval'].map(lambda x: x[0]['name'] if x != ' ' else ' ')\n",
    "\n",
    "df['company_name'].value_counts()\n",
    "\n",
    "#pd.get_dummies(df, columns = ['country_abb']);"
   ]
  },
  {
   "cell_type": "code",
   "execution_count": 97,
   "metadata": {},
   "outputs": [
    {
     "data": {
      "text/plain": [
       "0    2463\n",
       "1     537\n",
       "Name: big_company, dtype: int64"
      ]
     },
     "execution_count": 97,
     "metadata": {},
     "output_type": "execute_result"
    }
   ],
   "source": [
    "big_companies_list = ['Universal Pictures', 'Paramount Pictures', 'Twentieth Century Fox Film Corporation', 'Columbia Pictures']\n",
    "df['big_company'] = df['company_name'].map(lambda x: 1 if x in big_companies_list else 0)\n",
    "\n",
    "df['big_company'].value_counts()"
   ]
  },
  {
   "cell_type": "code",
   "execution_count": 98,
   "metadata": {},
   "outputs": [],
   "source": [
    "df['release_date'] = pd.to_datetime(df['release_date'])"
   ]
  },
  {
   "cell_type": "code",
   "execution_count": 99,
   "metadata": {},
   "outputs": [],
   "source": [
    "df.drop(columns = ['spoken_languages', 'crew'], inplace = True)"
   ]
  },
  {
   "cell_type": "code",
   "execution_count": 100,
   "metadata": {},
   "outputs": [],
   "source": [
    "df['status'] = df['status'].map({'Released': 1, 'Rumored': 0})"
   ]
  },
  {
   "cell_type": "code",
   "execution_count": 101,
   "metadata": {},
   "outputs": [
    {
     "data": {
      "text/plain": [
       "1    2996\n",
       "0       4\n",
       "Name: status, dtype: int64"
      ]
     },
     "execution_count": 101,
     "metadata": {},
     "output_type": "execute_result"
    }
   ],
   "source": [
    "df['status'].value_counts()"
   ]
  },
  {
   "cell_type": "code",
   "execution_count": 102,
   "metadata": {
    "scrolled": true
   },
   "outputs": [],
   "source": [
    "df['cast'].fillna(' ', inplace = True)\n",
    "\n",
    "df['cast_eval'] = df['cast'].map(lambda x: literal_eval(x) if x != ' ' else x)\n",
    "\n",
    "df['cast_eval'].iloc[200];"
   ]
  },
  {
   "cell_type": "code",
   "execution_count": 103,
   "metadata": {},
   "outputs": [],
   "source": [
    "df.drop(columns=['cast', 'cast_eval'], inplace=True)"
   ]
  },
  {
   "cell_type": "code",
   "execution_count": 104,
   "metadata": {},
   "outputs": [],
   "source": [
    "df.drop(columns=['company_eval', 'company_name', 'countries_eval'], inplace=True)"
   ]
  },
  {
   "cell_type": "code",
   "execution_count": 105,
   "metadata": {},
   "outputs": [],
   "source": [
    "features = ['budget', 'popularity', 'runtime', 'status', \n",
    "            'overview_word_count', 'tagline_word_count',\n",
    "            'in_collection', 'is_en', 'country_abb_ ', 'country_abb_AE',\n",
    "       'country_abb_AR', 'country_abb_AT', 'country_abb_AU', 'country_abb_BA',\n",
    "       'country_abb_BE', 'country_abb_BF', 'country_abb_BG', 'country_abb_BR',\n",
    "       'country_abb_BS', 'country_abb_CA', 'country_abb_CH', 'country_abb_CL',\n",
    "       'country_abb_CN', 'country_abb_CZ', 'country_abb_DE', 'country_abb_DK',\n",
    "       'country_abb_ES', 'country_abb_ET', 'country_abb_FI', 'country_abb_FR',\n",
    "       'country_abb_GB', 'country_abb_GR', 'country_abb_HK', 'country_abb_HU',\n",
    "       'country_abb_ID', 'country_abb_IE', 'country_abb_IL', 'country_abb_IN',\n",
    "       'country_abb_IR', 'country_abb_IS', 'country_abb_IT', 'country_abb_JP',\n",
    "       'country_abb_KH', 'country_abb_KR', 'country_abb_LU', 'country_abb_MN',\n",
    "       'country_abb_MR', 'country_abb_MT', 'country_abb_MX', 'country_abb_NA',\n",
    "       'country_abb_NL', 'country_abb_NO', 'country_abb_NZ', 'country_abb_PH',\n",
    "       'country_abb_PK', 'country_abb_PL', 'country_abb_QA', 'country_abb_RO',\n",
    "       'country_abb_RS', 'country_abb_RU', 'country_abb_SA', 'country_abb_SE',\n",
    "       'country_abb_SG', 'country_abb_TR', 'country_abb_TW', 'country_abb_UA',\n",
    "       'country_abb_US', 'country_abb_UY', 'country_abb_ZA', 'big_company', 'genre_name_ ', 'genre_name_Action',\n",
    "       'genre_name_Adventure', 'genre_name_Animation', 'genre_name_Comedy',\n",
    "       'genre_name_Crime', 'genre_name_Documentary', 'genre_name_Drama',\n",
    "       'genre_name_Family', 'genre_name_Fantasy', 'genre_name_Foreign',\n",
    "       'genre_name_History', 'genre_name_Horror', 'genre_name_Music',\n",
    "       'genre_name_Mystery', 'genre_name_Romance',\n",
    "       'genre_name_Science Fiction', 'genre_name_TV Movie',\n",
    "       'genre_name_Thriller', 'genre_name_War', 'genre_name_Western']"
   ]
  },
  {
   "cell_type": "code",
   "execution_count": 106,
   "metadata": {},
   "outputs": [],
   "source": [
    "X = df[features]\n",
    "y = df['revenue']"
   ]
  },
  {
   "cell_type": "code",
   "execution_count": 107,
   "metadata": {},
   "outputs": [
    {
     "name": "stdout",
     "output_type": "stream",
     "text": [
      "(3000, 91)\n"
     ]
    },
    {
     "data": {
      "text/plain": [
       "(3000,)"
      ]
     },
     "execution_count": 107,
     "metadata": {},
     "output_type": "execute_result"
    }
   ],
   "source": [
    "print(X.shape)\n",
    "y.shape"
   ]
  },
  {
   "cell_type": "code",
   "execution_count": 108,
   "metadata": {},
   "outputs": [],
   "source": [
    "X = df[features].copy()\n",
    "y = df['revenue']\n",
    "change_columns = X.select_dtypes(include=np.uint8).columns\n",
    "X.loc[:, change_columns] = X[change_columns].astype(int)\n",
    "X_train, X_test, y_train, y_test = train_test_split(X, y, test_size = 0.3, random_state = 42)"
   ]
  },
  {
   "cell_type": "code",
   "execution_count": 109,
   "metadata": {},
   "outputs": [
    {
     "data": {
      "text/plain": [
       "LinearRegression()"
      ]
     },
     "execution_count": 109,
     "metadata": {},
     "output_type": "execute_result"
    }
   ],
   "source": [
    "lr = LinearRegression()\n",
    "lr.fit(X_train, y_train)"
   ]
  },
  {
   "cell_type": "code",
   "execution_count": 110,
   "metadata": {},
   "outputs": [
    {
     "name": "stdout",
     "output_type": "stream",
     "text": [
      "0.666467734169202\n"
     ]
    },
    {
     "data": {
      "text/plain": [
       "0.6130598736375568"
      ]
     },
     "execution_count": 110,
     "metadata": {},
     "output_type": "execute_result"
    }
   ],
   "source": [
    "print(lr.score(X_train, y_train))\n",
    "lr.score(X_test, y_test)"
   ]
  },
  {
   "cell_type": "code",
   "execution_count": 111,
   "metadata": {},
   "outputs": [],
   "source": [
    "from sklearn.linear_model import Lasso, LassoCV, Ridge, RidgeCV, ElasticNet, ElasticNetCV"
   ]
  },
  {
   "cell_type": "code",
   "execution_count": 112,
   "metadata": {},
   "outputs": [],
   "source": [
    "ss = StandardScaler() \n",
    "X_train_sc = ss.fit_transform(X_train)\n",
    "X_test_sc = ss.transform(X_test)\n",
    "las = Lasso(alpha=5)"
   ]
  },
  {
   "cell_type": "code",
   "execution_count": 113,
   "metadata": {},
   "outputs": [
    {
     "name": "stderr",
     "output_type": "stream",
     "text": [
      "C:\\Users\\theja\\anaconda3\\lib\\site-packages\\sklearn\\linear_model\\_coordinate_descent.py:529: ConvergenceWarning: Objective did not converge. You might want to increase the number of iterations. Duality gap: 2.150430882134528e+17, tolerance: 4246370290701351.5\n",
      "  model = cd_fast.enet_coordinate_descent(\n"
     ]
    },
    {
     "data": {
      "text/plain": [
       "Lasso(alpha=5)"
      ]
     },
     "execution_count": 113,
     "metadata": {},
     "output_type": "execute_result"
    }
   ],
   "source": [
    "las.fit(X_train_sc, y_train)"
   ]
  },
  {
   "cell_type": "code",
   "execution_count": 114,
   "metadata": {},
   "outputs": [
    {
     "data": {
      "text/plain": [
       "0.6664677341690869"
      ]
     },
     "execution_count": 114,
     "metadata": {},
     "output_type": "execute_result"
    }
   ],
   "source": [
    "las.score(X_train_sc, y_train)"
   ]
  },
  {
   "cell_type": "code",
   "execution_count": 115,
   "metadata": {},
   "outputs": [
    {
     "data": {
      "text/plain": [
       "0.6130590425084426"
      ]
     },
     "execution_count": 115,
     "metadata": {},
     "output_type": "execute_result"
    }
   ],
   "source": [
    "las.score(X_test_sc, y_test)"
   ]
  },
  {
   "cell_type": "code",
   "execution_count": 116,
   "metadata": {},
   "outputs": [
    {
     "name": "stdout",
     "output_type": "stream",
     "text": [
      "0.6664644925335654\n"
     ]
    },
    {
     "data": {
      "text/plain": [
       "0.6134573956088372"
      ]
     },
     "execution_count": 116,
     "metadata": {},
     "output_type": "execute_result"
    }
   ],
   "source": [
    "ridge = Ridge(alpha=5)\n",
    "ridge.fit(X_train_sc, y_train)\n",
    "print(ridge.score(X_train_sc, y_train))\n",
    "ridge.score(X_test_sc, y_test)"
   ]
  },
  {
   "cell_type": "code",
   "execution_count": 117,
   "metadata": {},
   "outputs": [
    {
     "name": "stderr",
     "output_type": "stream",
     "text": [
      "[Parallel(n_jobs=8)]: Using backend LokyBackend with 8 concurrent workers.\n"
     ]
    },
    {
     "name": "stdout",
     "output_type": "stream",
     "text": [
      "Fitting 5 folds for each of 10 candidates, totalling 50 fits\n"
     ]
    },
    {
     "name": "stderr",
     "output_type": "stream",
     "text": [
      "[Parallel(n_jobs=8)]: Done  34 tasks      | elapsed:    6.2s\n",
      "[Parallel(n_jobs=8)]: Done  50 out of  50 | elapsed:    6.7s finished\n"
     ]
    },
    {
     "name": "stdout",
     "output_type": "stream",
     "text": [
      "testing score: 0.5669292013011751\n",
      "training score: 0.4967035332032427\n"
     ]
    }
   ],
   "source": [
    "# Create dictionary of hyperparameters.\n",
    "knn_params = {\n",
    "    'n_neighbors': range(1, 51, 10),\n",
    "    'metric': ['euclidean', 'manhattan']\n",
    "}\n",
    "# Instantiate our GridSearchCV object.\n",
    "knn_gridsearch = GridSearchCV(KNeighborsRegressor(),\n",
    "                              knn_params, \n",
    "                              cv=5, \n",
    "                              verbose=1,\n",
    "                              n_jobs=8)\n",
    "# Fit the GridSearchCV object to the data\n",
    "knn_gridsearch.fit(X_train_sc, y_train);\n",
    "\n",
    "print('testing score:', knn_gridsearch.score(X_train_sc, y_train))\n",
    "\n",
    "print('training score:',knn_gridsearch.score(X_test_sc, y_test))"
   ]
  },
  {
   "cell_type": "code",
   "execution_count": 118,
   "metadata": {},
   "outputs": [
    {
     "name": "stdout",
     "output_type": "stream",
     "text": [
      "Fitting 5 folds for each of 165 candidates, totalling 825 fits\n"
     ]
    },
    {
     "name": "stderr",
     "output_type": "stream",
     "text": [
      "[Parallel(n_jobs=8)]: Using backend LokyBackend with 8 concurrent workers.\n",
      "[Parallel(n_jobs=8)]: Done  34 tasks      | elapsed:    3.6s\n",
      "[Parallel(n_jobs=8)]: Done 184 tasks      | elapsed:   14.6s\n",
      "[Parallel(n_jobs=8)]: Done 484 tasks      | elapsed:   23.1s\n",
      "[Parallel(n_jobs=8)]: Done 810 out of 825 | elapsed:   29.5s remaining:    0.4s\n"
     ]
    },
    {
     "name": "stdout",
     "output_type": "stream",
     "text": [
      "testing score: 0.6655305805884997\n",
      "training score: 0.6187120721635098\n"
     ]
    },
    {
     "name": "stderr",
     "output_type": "stream",
     "text": [
      "[Parallel(n_jobs=8)]: Done 825 out of 825 | elapsed:   30.4s finished\n"
     ]
    }
   ],
   "source": [
    "# Create dictionary of hyperparameters.\n",
    "# The keys MUST match the names of the arguments!\n",
    "en_params = {\n",
    "    'alpha': np.logspace(-2, 2, 15),\n",
    "    'l1_ratio': np.linspace(0, 1, 11)\n",
    "}\n",
    "# Instantiate our GridSearchCV object.\n",
    "en_gridsearch = GridSearchCV(ElasticNet(), # What is the model we want to fit?\n",
    "                              en_params, # What is the dictionary of hyperparameters?\n",
    "                              cv=5, # What number of folds in CV will we use?\n",
    "                              verbose=1,\n",
    "                              n_jobs=8)\n",
    "# Fit the GridSearchCV object to the data\n",
    "en_gridsearch.fit(X_train_sc, y_train);\n",
    "\n",
    "print('testing score:', en_gridsearch.score(X_train_sc, y_train))\n",
    "\n",
    "print('training score:',en_gridsearch.score(X_test_sc, y_test))"
   ]
  },
  {
   "cell_type": "code",
   "execution_count": 119,
   "metadata": {},
   "outputs": [],
   "source": [
    "def score_model(pipe_name, model_abb):\n",
    "    '''prints the training and testing accuracy scores'''\n",
    "    print(model_abb, 'Training Score:', pipe_name.score(X_train_sc, y_train))\n",
    "    print(model_abb, 'Testing Score:', pipe_name.score(X_test_sc, y_test))"
   ]
  },
  {
   "cell_type": "code",
   "execution_count": 131,
   "metadata": {},
   "outputs": [
    {
     "name": "stdout",
     "output_type": "stream",
     "text": [
      "rf_def Training Score: 0.8145366524949168\n",
      "rf_def Testing Score: 0.695057381960913\n"
     ]
    }
   ],
   "source": [
    "rf_def = RandomForestRegressor(max_depth=5)\n",
    "rf_def.fit(X_train_sc, y_train)\n",
    "score_model(rf_def, 'rf_def')"
   ]
  },
  {
   "cell_type": "code",
   "execution_count": 124,
   "metadata": {},
   "outputs": [
    {
     "name": "stdout",
     "output_type": "stream",
     "text": [
      "Fitting 5 folds for each of 81 candidates, totalling 405 fits\n"
     ]
    },
    {
     "name": "stderr",
     "output_type": "stream",
     "text": [
      "[Parallel(n_jobs=8)]: Using backend LokyBackend with 8 concurrent workers.\n",
      "[Parallel(n_jobs=8)]: Done  34 tasks      | elapsed:   21.5s\n",
      "[Parallel(n_jobs=8)]: Done 184 tasks      | elapsed:  1.1min\n",
      "[Parallel(n_jobs=8)]: Done 405 out of 405 | elapsed:  1.9min finished\n"
     ]
    },
    {
     "data": {
      "text/plain": [
       "GridSearchCV(cv=5, estimator=RandomForestRegressor(), n_jobs=8,\n",
       "             param_grid={'max_depth': [5, 7, 9], 'min_samples_leaf': [1, 5, 10],\n",
       "                         'min_samples_split': [5, 10, 15],\n",
       "                         'n_estimators': [75, 100, 150]},\n",
       "             verbose=True)"
      ]
     },
     "execution_count": 124,
     "metadata": {},
     "output_type": "execute_result"
    }
   ],
   "source": [
    "rf_params = {\n",
    "    'n_estimators': [75, 100, 150],\n",
    "    'max_depth': [5, 7, 9],\n",
    "    'min_samples_split': [5, 10, 15],\n",
    "    'min_samples_leaf': [1, 5, 10]\n",
    "}\n",
    "rf_gs = GridSearchCV(RandomForestRegressor(), param_grid = rf_params, cv = 5, verbose=True, n_jobs=8)\n",
    "rf_gs.fit(X_train_sc, y_train)\n"
   ]
  },
  {
   "cell_type": "code",
   "execution_count": 125,
   "metadata": {},
   "outputs": [
    {
     "name": "stdout",
     "output_type": "stream",
     "text": [
      "0.6677795983961796\n",
      "{'max_depth': 7, 'min_samples_leaf': 5, 'min_samples_split': 10, 'n_estimators': 150}\n"
     ]
    }
   ],
   "source": [
    "print(rf_gs.best_score_)\n",
    "print(rf_gs.best_params_)"
   ]
  },
  {
   "cell_type": "markdown",
   "metadata": {},
   "source": [
    "# Generate Submission"
   ]
  },
  {
   "cell_type": "markdown",
   "metadata": {},
   "source": [
    "To generate a kaggle submission in the future we would need to add the same columns to the testing csv that we added to the training csv. That would mean repeating a lot of the code above."
   ]
  },
  {
   "cell_type": "code",
   "execution_count": null,
   "metadata": {},
   "outputs": [],
   "source": []
  }
 ],
 "metadata": {
  "kernelspec": {
   "display_name": "Python 3",
   "language": "python",
   "name": "python3"
  },
  "language_info": {
   "codemirror_mode": {
    "name": "ipython",
    "version": 3
   },
   "file_extension": ".py",
   "mimetype": "text/x-python",
   "name": "python",
   "nbconvert_exporter": "python",
   "pygments_lexer": "ipython3",
   "version": "3.8.5"
  }
 },
 "nbformat": 4,
 "nbformat_minor": 4
}
